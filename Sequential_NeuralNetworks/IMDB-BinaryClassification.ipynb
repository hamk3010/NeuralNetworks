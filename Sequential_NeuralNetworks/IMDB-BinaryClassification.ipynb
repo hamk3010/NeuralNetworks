{
 "cells": [
  {
   "cell_type": "code",
   "execution_count": 5,
   "metadata": {},
   "outputs": [],
   "source": [
    "from keras.datasets import imdb\n",
    "#pick only 10,000 most frequently occuring words in the training data\n",
    "(train_data, train_labels), (test_data, test_labels) = imdb.load_data(num_words=10000)"
   ]
  },
  {
   "cell_type": "code",
   "execution_count": 7,
   "metadata": {},
   "outputs": [
    {
     "name": "stdout",
     "output_type": "stream",
     "text": [
      "Downloading data from https://s3.amazonaws.com/text-datasets/imdb_word_index.json\n",
      "1646592/1641221 [==============================] - 2s 1us/step\n"
     ]
    }
   ],
   "source": [
    "# decoding the review back to english words\n",
    "word_index = imdb.get_word_index()\n",
    "reverse_word_index = dict( [(value,key) for (key,value) in word_index.items() ])\n",
    "decoded_review = ''.join( [reverse_word_index.get(i-3, '?') for i in train_data[0]])"
   ]
  },
  {
   "cell_type": "code",
   "execution_count": 8,
   "metadata": {},
   "outputs": [
    {
     "data": {
      "text/plain": [
       "\"?thisfilmwasjustbrilliantcastinglocationscenerystorydirectioneveryone'sreallysuitedtheparttheyplayedandyoucouldjustimaginebeingthererobert?isanamazingactorandnowthesamebeingdirector?fathercamefromthesamescottishislandasmyselfsoilovedthefacttherewasarealconnectionwiththisfilmthewittyremarksthroughoutthefilmweregreatitwasjustbrilliantsomuchthatiboughtthefilmassoonasitwasreleasedfor?andwouldrecommendittoeveryonetowatchandtheflyfishingwasamazingreallycriedattheenditwassosadandyouknowwhattheysayifyoucryatafilmitmusthavebeengoodandthisdefinitelywasalso?tothetwolittleboy'sthatplayedthe?ofnormanandpaultheywerejustbrilliantchildrenareoftenleftoutofthe?listithinkbecausethestarsthatplaythemallgrownuparesuchabigprofileforthewholefilmbutthesechildrenareamazingandshouldbepraisedforwhattheyhavedonedon'tyouthinkthewholestorywassolovelybecauseitwastrueandwassomeone'slifeafterallthatwassharedwithusall\""
      ]
     },
     "execution_count": 8,
     "metadata": {},
     "output_type": "execute_result"
    }
   ],
   "source": [
    "decoded_review"
   ]
  },
  {
   "cell_type": "code",
   "execution_count": 9,
   "metadata": {
    "collapsed": true
   },
   "outputs": [],
   "source": [
    "#=================================PREPARING THE DATA====================================================="
   ]
  },
  {
   "cell_type": "code",
   "execution_count": 12,
   "metadata": {
    "collapsed": true
   },
   "outputs": [],
   "source": [
    "import numpy as np\n",
    "##One-hot encoding \n",
    "\n",
    "def vectorize_sequences(sequences, dimension=10000):\n",
    "    results = np.zeros( (len(sequences), dimension) )\n",
    "    for i, sequence in enumerate(sequences):\n",
    "        results[i,sequence] = 1.\n",
    "    return results"
   ]
  },
  {
   "cell_type": "code",
   "execution_count": 14,
   "metadata": {},
   "outputs": [],
   "source": [
    "x_train = vectorize_sequences(train_data)\n",
    "x_test = vectorize_sequences(test_data)\n",
    "#==Vectorize your labels\n",
    "y_train = np.asarray(train_labels).astype('float32')\n",
    "y_test = np.asarray(test_labels).astype('float32')"
   ]
  },
  {
   "cell_type": "code",
   "execution_count": 16,
   "metadata": {
    "collapsed": true
   },
   "outputs": [],
   "source": [
    "#=======================================DESIGN A NEURAL NETWORK=========================================="
   ]
  },
  {
   "cell_type": "code",
   "execution_count": 17,
   "metadata": {
    "collapsed": true
   },
   "outputs": [],
   "source": [
    "from keras import models\n",
    "from keras import layers\n",
    "\n",
    "model = models.Sequential()\n",
    "model.add(layers.Dense(16, activation = 'relu', input_shape= (10000,)))\n",
    "model.add(layers.Dense(16, activation = 'relu'))\n",
    "model.add(layers.Dense(1, activation = 'sigmoid'))\n",
    "model.compile(optimizer = 'rmsprop', loss = 'binary_crossentropy', metrics = ['accuracy'])"
   ]
  },
  {
   "cell_type": "code",
   "execution_count": 18,
   "metadata": {
    "collapsed": true
   },
   "outputs": [],
   "source": [
    "# Validating our approach\n",
    "x_val = x_train[:10000]\n",
    "partial_x_train = x_train[10000:]\n",
    "y_val = y_train[:10000]\n",
    "partial_y_train = y_train[10000:]"
   ]
  },
  {
   "cell_type": "code",
   "execution_count": 19,
   "metadata": {},
   "outputs": [
    {
     "name": "stdout",
     "output_type": "stream",
     "text": [
      "Train on 15000 samples, validate on 10000 samples\n",
      "Epoch 1/20\n",
      "15000/15000 [==============================] - 3s 223us/step - loss: 0.5086 - acc: 0.7814 - val_loss: 0.3793 - val_acc: 0.8687\n",
      "Epoch 2/20\n",
      "15000/15000 [==============================] - 3s 173us/step - loss: 0.3003 - acc: 0.9048 - val_loss: 0.3002 - val_acc: 0.8899\n",
      "Epoch 3/20\n",
      "15000/15000 [==============================] - 3s 176us/step - loss: 0.2179 - acc: 0.9283 - val_loss: 0.3082 - val_acc: 0.8716\n",
      "Epoch 4/20\n",
      "15000/15000 [==============================] - 3s 193us/step - loss: 0.1751 - acc: 0.9434 - val_loss: 0.2837 - val_acc: 0.8836\n",
      "Epoch 5/20\n",
      "15000/15000 [==============================] - 3s 179us/step - loss: 0.1425 - acc: 0.9542 - val_loss: 0.2849 - val_acc: 0.8865\n",
      "Epoch 6/20\n",
      "15000/15000 [==============================] - 3s 177us/step - loss: 0.1149 - acc: 0.9651 - val_loss: 0.3153 - val_acc: 0.8772\n",
      "Epoch 7/20\n",
      "15000/15000 [==============================] - 4s 270us/step - loss: 0.0979 - acc: 0.9707 - val_loss: 0.3127 - val_acc: 0.8844\n",
      "Epoch 8/20\n",
      "15000/15000 [==============================] - 7s 491us/step - loss: 0.0806 - acc: 0.9765 - val_loss: 0.3861 - val_acc: 0.8654 0.0796 - acc: 0\n",
      "Epoch 9/20\n",
      "15000/15000 [==============================] - 3s 180us/step - loss: 0.0659 - acc: 0.9822 - val_loss: 0.3634 - val_acc: 0.8781\n",
      "Epoch 10/20\n",
      "15000/15000 [==============================] - 3s 183us/step - loss: 0.0556 - acc: 0.9852 - val_loss: 0.3843 - val_acc: 0.8791\n",
      "Epoch 11/20\n",
      "15000/15000 [==============================] - 7s 433us/step - loss: 0.0444 - acc: 0.9890 - val_loss: 0.4160 - val_acc: 0.8770\n",
      "Epoch 12/20\n",
      "15000/15000 [==============================] - 3s 210us/step - loss: 0.0382 - acc: 0.9916 - val_loss: 0.4511 - val_acc: 0.8698\n",
      "Epoch 13/20\n",
      "15000/15000 [==============================] - 6s 407us/step - loss: 0.0297 - acc: 0.9930 - val_loss: 0.4708 - val_acc: 0.8729\n",
      "Epoch 14/20\n",
      "15000/15000 [==============================] - 3s 203us/step - loss: 0.0243 - acc: 0.9948 - val_loss: 0.5041 - val_acc: 0.8721\n",
      "Epoch 15/20\n",
      "15000/15000 [==============================] - 7s 483us/step - loss: 0.0171 - acc: 0.9982 - val_loss: 0.5554 - val_acc: 0.8670\n",
      "Epoch 16/20\n",
      "15000/15000 [==============================] - 6s 368us/step - loss: 0.0157 - acc: 0.9972 - val_loss: 0.5800 - val_acc: 0.8689\n",
      "Epoch 17/20\n",
      "15000/15000 [==============================] - 3s 191us/step - loss: 0.0093 - acc: 0.9993 - val_loss: 0.6487 - val_acc: 0.8605\n",
      "Epoch 18/20\n",
      "15000/15000 [==============================] - 3s 197us/step - loss: 0.0112 - acc: 0.9981 - val_loss: 0.6492 - val_acc: 0.8672\n",
      "Epoch 19/20\n",
      "15000/15000 [==============================] - 7s 492us/step - loss: 0.0050 - acc: 0.9999 - val_loss: 0.7056 - val_acc: 0.8613\n",
      "Epoch 20/20\n",
      "15000/15000 [==============================] - 6s 397us/step - loss: 0.0079 - acc: 0.9983 - val_loss: 0.7145 - val_acc: 0.8651\n"
     ]
    }
   ],
   "source": [
    "# Training our model\n",
    "history = model.fit(partial_x_train, partial_y_train, epochs = 20, batch_size=512, validation_data= (x_val,y_val))"
   ]
  },
  {
   "cell_type": "code",
   "execution_count": 23,
   "metadata": {},
   "outputs": [
    {
     "data": {
      "image/png": "[encoded data removed]",
      "text/plain": [
       "<matplotlib.figure.Figure at 0x117ff0588>"
      ]
     },
     "metadata": {},
     "output_type": "display_data"
    }
   ],
   "source": [
    "# Plotting the training and validation loss\n",
    "import matplotlib.pyplot as plt\n",
    "history_dict = history.history\n",
    "loss_values = history_dict['loss']\n",
    "val_loss_values = history_dict['val_loss']\n",
    "\n",
    "epochs = range(1, len(history_dict['acc'])+1)\n",
    "\n",
    "plt.plot(epochs, loss_values, 'bo', label= 'Training loss')\n",
    "plt.plot(epochs, val_loss_values, 'b', label = 'Validation loss')\n",
    "plt.title('Training and Validation loss')\n",
    "plt.xlabel('Epochs')\n",
    "plt.ylabel('Loss')\n",
    "plt.legend()\n",
    "\n",
    "plt.show()\n"
   ]
  },
  {
   "cell_type": "code",
   "execution_count": 24,
   "metadata": {},
   "outputs": [
    {
     "data": {
      "image/png": "[encoded data removed]",
      "text/plain": [
       "<matplotlib.figure.Figure at 0x117ff0470>"
      ]
     },
     "metadata": {},
     "output_type": "display_data"
    }
   ],
   "source": [
    "plt.clf()\n",
    "acc_values = history_dict['acc']\n",
    "val_acc_values = history_dict['val_acc']\n",
    "\n",
    "plt.plot(epochs, acc_values, 'bo', label = 'Training acc')\n",
    "plt.plot(epochs, val_acc_values, 'b', label = 'Validation acc')\n",
    "plt.title('Training and validation accuracy')\n",
    "plt.xlabel('Epochs')\n",
    "plt.ylabel('Loss')\n",
    "plt.legend()\n",
    "plt.show()"
   ]
  }
 ],
 "metadata": {
  "kernelspec": {
   "display_name": "Python 3",
   "language": "python",
   "name": "python3"
  },
  "language_info": {
   "codemirror_mode": {
    "name": "ipython",
    "version": 3
   },
   "file_extension": ".py",
   "mimetype": "text/x-python",
   "name": "python",
   "nbconvert_exporter": "python",
   "pygments_lexer": "ipython3",
   "version": "3.6.3"
  }
 },
 "nbformat": 4,
 "nbformat_minor": 2
}
